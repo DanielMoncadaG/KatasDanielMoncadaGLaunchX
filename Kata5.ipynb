{
 "cells": [
  {
   "cell_type": "markdown",
   "metadata": {},
   "source": [
    "## Ejercicio1 - Utilizar operadores aritméticos"
   ]
  },
  {
   "cell_type": "code",
   "execution_count": 4,
   "metadata": {},
   "outputs": [
    {
     "name": "stdout",
     "output_type": "stream",
     "text": [
      "238371796 kilometros\n",
      "148028885.31599998 millas\n"
     ]
    }
   ],
   "source": [
    "d1=628949330\n",
    "d2=390577534\n",
    "restultado=abs(d1-d2)\n",
    "print(str(restultado)+\" kilometros\")\n",
    "print(f\"{restultado*0.621} millas\")"
   ]
  },
  {
   "cell_type": "markdown",
   "metadata": {},
   "source": [
    "## Ejercicio 2: convierte cadenas en números y usa valores absolutos"
   ]
  },
  {
   "cell_type": "code",
   "execution_count": 7,
   "metadata": {},
   "outputs": [
    {
     "name": "stdout",
     "output_type": "stream",
     "text": [
      "1000 kilometros\n",
      "621.0 millas\n"
     ]
    }
   ],
   "source": [
    "primerDistancia=input(\"Escriba la primer distancia\")\n",
    "segundaDistancia=input(\"Escriba la segunda distancia\")\n",
    "d3=int(primerDistancia)\n",
    "d4=int(segundaDistancia)\n",
    "restultado=abs(d3-d4)\n",
    "print(str(restultado)+\" kilometros\")\n",
    "print(f\"{restultado*0.621} millas\")\n"
   ]
  }
 ],
 "metadata": {
  "interpreter": {
   "hash": "e72130224f623da034c09a91a21ea4165cde1a798f1187b643c7852d74372b32"
  },
  "kernelspec": {
   "display_name": "Python 3.10.2 64-bit",
   "language": "python",
   "name": "python3"
  },
  "language_info": {
   "codemirror_mode": {
    "name": "ipython",
    "version": 3
   },
   "file_extension": ".py",
   "mimetype": "text/x-python",
   "name": "python",
   "nbconvert_exporter": "python",
   "pygments_lexer": "ipython3",
   "version": "3.10.2"
  },
  "orig_nbformat": 4
 },
 "nbformat": 4,
 "nbformat_minor": 2
}
