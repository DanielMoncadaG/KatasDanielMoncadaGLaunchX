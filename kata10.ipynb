{
 "cells": [
  {
   "cell_type": "code",
   "execution_count": 8,
   "metadata": {},
   "outputs": [
    {
     "name": "stdout",
     "output_type": "stream",
     "text": [
      "Ocurrió un error:  [Errno 2] No such file or directory: '/path/to/mars.jpg'\n",
      "Ocurrió un error:  El agua proporicionada no es suficiente para los austronautas para su viaje de {diasRestantes}\n"
     ]
    }
   ],
   "source": [
    "def main():\n",
    "    try:\n",
    "        open(\"/path/to/mars.jpg\")\n",
    "    except OSError as err:\n",
    "        print(\"Ocurrió un error: \",err)\n",
    "main()\n",
    "\n",
    "def aguaRestante(nAstronauta, agua,diasRestantes):\n",
    "    consumoDiarioAgua=11*nAstronauta\n",
    "    consumoTotal=consumoDiarioAgua*diasRestantes\n",
    "    aguaRestante=agua-consumoTotal\n",
    "    if aguaRestante<0:\n",
    "        raise RuntimeError(\"El agua proporicionada no es suficiente para los austronautas para su viaje de {diasRestantes}\")\n",
    "    return f'Después de {diasRestantes} días de viaje, resta {aguaRestante} litros de agua'\n",
    "\n",
    "def ejecutarMetodo():\n",
    "    try:\n",
    "        aguaRestante(5,100,3)\n",
    "    except RuntimeError as err:\n",
    "        print(f'Ocurrió un error: ',err)\n",
    "\n",
    "ejecutarMetodo()"
   ]
  }
 ],
 "metadata": {
  "interpreter": {
   "hash": "e72130224f623da034c09a91a21ea4165cde1a798f1187b643c7852d74372b32"
  },
  "kernelspec": {
   "display_name": "Python 3.10.2 64-bit",
   "language": "python",
   "name": "python3"
  },
  "language_info": {
   "codemirror_mode": {
    "name": "ipython",
    "version": 3
   },
   "file_extension": ".py",
   "mimetype": "text/x-python",
   "name": "python",
   "nbconvert_exporter": "python",
   "pygments_lexer": "ipython3",
   "version": "3.10.2"
  },
  "orig_nbformat": 4
 },
 "nbformat": 4,
 "nbformat_minor": 2
}
