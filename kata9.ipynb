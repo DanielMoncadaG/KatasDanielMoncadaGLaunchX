{
 "cells": [
  {
   "cell_type": "markdown",
   "metadata": {},
   "source": [
    "## Ejercicio 1: Trabajar con argumentos en funciones"
   ]
  },
  {
   "cell_type": "code",
   "execution_count": 3,
   "metadata": {},
   "outputs": [
    {
     "name": "stdout",
     "output_type": "stream",
     "text": [
      "El porcentaje promedio de los datos proporcionados es: 20.0\n"
     ]
    }
   ],
   "source": [
    "def tanques(dato1,dato2,dato3):\n",
    "    return f'El porcentaje promedio de los datos proporcionados es: {promedio(dato1,dato2,dato3)}'\n",
    "\n",
    "def promedio(dato1, dato2,dato3):\n",
    "    return (dato1+dato2+dato3)/3\n",
    "\n",
    "print(tanques(10,20,30))"
   ]
  },
  {
   "cell_type": "markdown",
   "metadata": {},
   "source": [
    "## Ejercicio 2: Trabajo con argumentos de palabra clave"
   ]
  },
  {
   "cell_type": "code",
   "execution_count": 21,
   "metadata": {},
   "outputs": [
    {
     "name": "stdout",
     "output_type": "stream",
     "text": [
      "Hora del prelanzamiento: 15, tiempo de vuelo: 89,\n",
      "    destino: Otro lugar, Capacidad del tanque externo: 20, Capacidad del tanque interno:50\n",
      "    \n",
      "    \n",
      "Lugar de destino: Otro lugar\n",
      "    tiempo en minutos:60\n",
      "    capacidad en litros: 3000\n",
      "    \n",
      "    \n",
      "Lugar de destino: Otro lugar\n",
      "    tiempo en minutos:60\n",
      "    capacidad en litros: 3000\n",
      "    \n",
      "    Tanque: interno, con capacidad de 1000\n",
      "Tanque: externo, con capacidad de 2000\n",
      "\n"
     ]
    }
   ],
   "source": [
    "def informe(horaPrelanzamiento,tiempoVuelo, destino, tanqueExt, tanqueInt):\n",
    "    return f'''Hora del prelanzamiento: {horaPrelanzamiento}, tiempo de vuelo: {tiempoVuelo},\n",
    "    destino: {destino}, Capacidad del tanque externo: {tanqueExt}, Capacidad del tanque interno:{tanqueInt}\n",
    "    \n",
    "    '''\n",
    "print(informe(15,89,\"Otro lugar\",\"20\",\"50\"))\n",
    "\n",
    "def informeMod(destino, *minutos,**capacidadTanques):\n",
    "    return f'''Lugar de destino: {destino}\n",
    "    tiempo en minutos:{sum(minutos)}\n",
    "    capacidad en litros: {sum(capacidadTanques.values())}\n",
    "    \n",
    "    '''\n",
    "\n",
    "print (informeMod(\"Otro lugar\",10,20,30,interno=1000,externo=2000))\n",
    "\n",
    "def informeMod2(destino, *minutos,**capacidadTanques):\n",
    "    resultado= f'''Lugar de destino: {destino}\n",
    "    tiempo en minutos:{sum(minutos)}\n",
    "    capacidad en litros: {sum(capacidadTanques.values())}\n",
    "    \n",
    "    '''\n",
    "    for tanque,capacidad in capacidadTanques.items():\n",
    "        resultado+=f'Tanque: {tanque}, con capacidad de {capacidad}\\n' \n",
    "    return resultado\n",
    "\n",
    "print (informeMod2(\"Otro lugar\",10,20,30,interno=1000,externo=2000))"
   ]
  }
 ],
 "metadata": {
  "interpreter": {
   "hash": "e72130224f623da034c09a91a21ea4165cde1a798f1187b643c7852d74372b32"
  },
  "kernelspec": {
   "display_name": "Python 3.10.2 64-bit",
   "language": "python",
   "name": "python3"
  },
  "language_info": {
   "codemirror_mode": {
    "name": "ipython",
    "version": 3
   },
   "file_extension": ".py",
   "mimetype": "text/x-python",
   "name": "python",
   "nbconvert_exporter": "python",
   "pygments_lexer": "ipython3",
   "version": "3.10.2"
  },
  "orig_nbformat": 4
 },
 "nbformat": 4,
 "nbformat_minor": 2
}
