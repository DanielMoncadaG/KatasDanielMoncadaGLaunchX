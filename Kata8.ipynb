{
 "cells": [
  {
   "cell_type": "markdown",
   "metadata": {},
   "source": [
    "## Ejercicio 1: Creación de diccionarios de Python"
   ]
  },
  {
   "cell_type": "code",
   "execution_count": 7,
   "metadata": {},
   "outputs": [
    {
     "name": "stdout",
     "output_type": "stream",
     "text": [
      "Marte 2\n",
      "Marte diámetro polar: 6752\n"
     ]
    }
   ],
   "source": [
    "planetas={\n",
    "    \"Nombre\":\"Marte\",\n",
    "    \"Lunas\":2\n",
    "}\n",
    "print(planetas.get(\"Nombre\"),planetas.get(\"Lunas\"))\n",
    "planetas[\"Circunferencia (km)\"]={\n",
    "    \"Polar\":6752,\n",
    "    \"Equatorial\":6792\n",
    "}\n",
    "\n",
    "print(f'{planetas.get(\"Nombre\")} diámetro polar: {planetas[\"Circunferencia (km)\"][\"Polar\"]}')"
   ]
  },
  {
   "cell_type": "markdown",
   "metadata": {},
   "source": [
    "## Ejercicio 2: Programación dinámica con diccionarios"
   ]
  },
  {
   "cell_type": "code",
   "execution_count": 16,
   "metadata": {},
   "outputs": [
    {
     "name": "stdout",
     "output_type": "stream",
     "text": [
      "Total de lunas 214\n",
      "Promedio de lunas 17.833333333333332\n"
     ]
    }
   ],
   "source": [
    "# Planets and moons\n",
    "\n",
    "planet_moons = {\n",
    "    'mercury': 0,\n",
    "    'venus': 0,\n",
    "    'earth': 1,\n",
    "    'mars': 2,\n",
    "    'jupiter': 79,\n",
    "    'saturn': 82,\n",
    "    'uranus': 27,\n",
    "    'neptune': 14,\n",
    "    'pluto': 5,\n",
    "    'haumea': 2,\n",
    "    'makemake': 1,\n",
    "    'eris': 1\n",
    "}\n",
    "totalLunas=0\n",
    "\n",
    "totalPlanetas=len(planet_moons.keys())\n",
    "\n",
    "for value in planet_moons.values():\n",
    "    totalLunas+=value\n",
    "\n",
    "print(f'Total de lunas {totalLunas}')\n",
    "print(f'Promedio de lunas {totalLunas/totalPlanetas}')\n"
   ]
  }
 ],
 "metadata": {
  "interpreter": {
   "hash": "e72130224f623da034c09a91a21ea4165cde1a798f1187b643c7852d74372b32"
  },
  "kernelspec": {
   "display_name": "Python 3.10.2 64-bit",
   "language": "python",
   "name": "python3"
  },
  "language_info": {
   "codemirror_mode": {
    "name": "ipython",
    "version": 3
   },
   "file_extension": ".py",
   "mimetype": "text/x-python",
   "name": "python",
   "nbconvert_exporter": "python",
   "pygments_lexer": "ipython3",
   "version": "3.10.2"
  },
  "orig_nbformat": 4
 },
 "nbformat": 4,
 "nbformat_minor": 2
}
