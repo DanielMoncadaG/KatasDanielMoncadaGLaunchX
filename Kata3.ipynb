{
 "cells": [
  {
   "cell_type": "markdown",
   "metadata": {},
   "source": [
    "## Ejercicio 1"
   ]
  },
  {
   "cell_type": "code",
   "execution_count": 16,
   "metadata": {},
   "outputs": [
    {
     "name": "stdout",
     "output_type": "stream",
     "text": [
      "De momento hay peligro\n"
     ]
    }
   ],
   "source": [
    "velocidad=24\n",
    "if(velocidad>25):\n",
    "    print(\"Alerta se acerca un asteroide a una velocidad superior a 25 km/h\")\n",
    "else:\n",
    "    print(\"De momento hay peligro\")"
   ]
  },
  {
   "cell_type": "markdown",
   "metadata": {},
   "source": [
    "## Ejercicio 2"
   ]
  },
  {
   "cell_type": "code",
   "execution_count": 19,
   "metadata": {},
   "outputs": [
    {
     "name": "stdout",
     "output_type": "stream",
     "text": [
      "Podrás ver un rayo de luz en el cielo hoy\n"
     ]
    }
   ],
   "source": [
    "velocidad=21\n",
    "if(velocidad>25):\n",
    "     print(\"Alerta se acerca un asteroide a una velocidad superior a 25 km/h\")\n",
    "elif(velocidad>=20):\n",
    "    print(\"Podrás ver un rayo de luz en el cielo hoy\")\n",
    "else:\n",
    "    print(\"Es un día normal\")"
   ]
  },
  {
   "cell_type": "markdown",
   "metadata": {},
   "source": [
    "## Ejercicio 3"
   ]
  },
  {
   "cell_type": "code",
   "execution_count": 26,
   "metadata": {},
   "outputs": [
    {
     "name": "stdout",
     "output_type": "stream",
     "text": [
      "Podrás ver un rayo de luz en el cielo hoy\n"
     ]
    }
   ],
   "source": [
    "velocidad=30\n",
    "dimension=20\n",
    "if(dimension>25 and velocidad>25):\n",
    "    print(\"El asteroide puede golpear la tierra y puede ser muy destructivo\")\n",
    "\n",
    "elif(velocidad>=20):\n",
    "    print(\"Podrás ver un rayo de luz en el cielo hoy\")\n",
    "else:\n",
    "    print(\"Es un día normal\")"
   ]
  }
 ],
 "metadata": {
  "interpreter": {
   "hash": "e72130224f623da034c09a91a21ea4165cde1a798f1187b643c7852d74372b32"
  },
  "kernelspec": {
   "display_name": "Python 3.10.2 64-bit",
   "language": "python",
   "name": "python3"
  },
  "language_info": {
   "codemirror_mode": {
    "name": "ipython",
    "version": 3
   },
   "file_extension": ".py",
   "mimetype": "text/x-python",
   "name": "python",
   "nbconvert_exporter": "python",
   "pygments_lexer": "ipython3",
   "version": "3.10.2"
  },
  "orig_nbformat": 4
 },
 "nbformat": 4,
 "nbformat_minor": 2
}
