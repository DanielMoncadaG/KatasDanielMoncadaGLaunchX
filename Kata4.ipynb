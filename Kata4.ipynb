{
 "cells": [
  {
   "cell_type": "markdown",
   "metadata": {},
   "source": [
    "## Ejercicio 1: Transformar cadenas"
   ]
  },
  {
   "cell_type": "code",
   "execution_count": 14,
   "metadata": {},
   "outputs": [
    {
     "name": "stdout",
     "output_type": "stream",
     "text": [
      "\n",
      "On average, the Moon moves 4cm away from the Earth every year\n",
      "The highest daylight temperature of the Moon is 127 C.\n",
      "The highest daylight temperature of the Moon is 127 Celsius.\n"
     ]
    }
   ],
   "source": [
    "text = \"\"\"Interesting facts about the Moon. The Moon is Earth's only satellite. There are several interesting facts about the Moon and how it affects life here on Earth. \n",
    "On average, the Moon moves 4cm away from the Earth every year. This yearly drift is not significant enough to cause immediate effects on Earth. The highest daylight temperature of the Moon is 127 C.\"\"\"\n",
    "parts=text.split(\". \")\n",
    "\n",
    "palabras=[\"average\",\"temperature\",\"distance\"]\n",
    "for item in parts:\n",
    "    for aux in palabras:\n",
    "        if aux in item:\n",
    "            print(item) \n",
    "\n",
    "for item in parts:\n",
    "    if \"C\" in item:\n",
    "        print(item.replace(\" C\",\" Celsius\"))\n"
   ]
  },
  {
   "cell_type": "markdown",
   "metadata": {},
   "source": [
    "## Ejericio 2 Formateando Cadenas"
   ]
  },
  {
   "cell_type": "code",
   "execution_count": 32,
   "metadata": {},
   "outputs": [
    {
     "name": "stdout",
     "output_type": "stream",
     "text": [
      "La gravedad en Earth. A continuación, se presenta la gravedad en Earth: 1.6199999999999999 m/s2\n",
      "La gravedad en Earth. A continuación, se presenta la gravedad en Earth: 1.6199999999999999 m/s2\n",
      "La gravedad en Marte. A continuación, se presenta la gravedad en Marte: 1.4300000000000002 m/s2\n"
     ]
    }
   ],
   "source": [
    "# Datos con los que vas a trabajar\n",
    "name = \"Moon\"\n",
    "gravity = 0.00162 # in kms\n",
    "planet = \"Earth\"\n",
    "gravity2=gravity*1000\n",
    "\n",
    "Texto= f\"La gravedad en {planet}.\"\n",
    "Descripcion=f\"\"\" A continuación, se presenta la gravedad en {planet}: {gravity*1000} m/s2\"\"\"\n",
    "\n",
    "textoUnido=f\"\"\"{Texto}{Descripcion}\"\"\"\n",
    "print (textoUnido)\n",
    "\n",
    "nuevaPlantilla=\"La gravedad en {planet}.\" \" A continuación, se presenta la gravedad en {planet}: {gravity2} m/s2\"\n",
    "print(nuevaPlantilla.format(name=name, gravity2=gravity2, planet=planet))\n",
    "name = \"Ganímedes\"\n",
    "gravity = 0.00143 # in kms\n",
    "planet = \"Marte\"\n",
    "gravity2=gravity*1000\n",
    "print(nuevaPlantilla.format(name=name, gravity2=gravity2, planet=planet))\n"
   ]
  }
 ],
 "metadata": {
  "interpreter": {
   "hash": "e72130224f623da034c09a91a21ea4165cde1a798f1187b643c7852d74372b32"
  },
  "kernelspec": {
   "display_name": "Python 3.10.2 64-bit",
   "language": "python",
   "name": "python3"
  },
  "language_info": {
   "codemirror_mode": {
    "name": "ipython",
    "version": 3
   },
   "file_extension": ".py",
   "mimetype": "text/x-python",
   "name": "python",
   "nbconvert_exporter": "python",
   "pygments_lexer": "ipython3",
   "version": "3.10.2"
  },
  "orig_nbformat": 4
 },
 "nbformat": 4,
 "nbformat_minor": 2
}
